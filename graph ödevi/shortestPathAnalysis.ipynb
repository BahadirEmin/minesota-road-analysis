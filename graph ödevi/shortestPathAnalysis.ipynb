{
 "cells": [
  {
   "cell_type": "markdown",
   "metadata": {},
   "source": [
    "# Implementing Shortest Path Algorithms on Minesota Reoad Network"
   ]
  },
  {
   "cell_type": "code",
   "execution_count": 10,
   "metadata": {},
   "outputs": [
    {
     "ename": "KeyboardInterrupt",
     "evalue": "",
     "output_type": "error",
     "traceback": [
      "\u001b[0;31m---------------------------------------------------------------------------\u001b[0m",
      "\u001b[0;31mKeyboardInterrupt\u001b[0m                         Traceback (most recent call last)",
      "Cell \u001b[0;32mIn[10], line 55\u001b[0m\n\u001b[1;32m     53\u001b[0m \u001b[38;5;28;01mtry\u001b[39;00m:\n\u001b[1;32m     54\u001b[0m     path \u001b[38;5;241m=\u001b[39m nx\u001b[38;5;241m.\u001b[39mshortest_path(graph, source\u001b[38;5;241m=\u001b[39msource, target\u001b[38;5;241m=\u001b[39mtarget)\n\u001b[0;32m---> 55\u001b[0m     nx\u001b[38;5;241m.\u001b[39mdraw_networkx_edges(graph, pos, edgelist\u001b[38;5;241m=\u001b[39m[(path[i], path[i\u001b[38;5;241m+\u001b[39m\u001b[38;5;241m1\u001b[39m]) \u001b[38;5;28;01mfor\u001b[39;00m i \u001b[38;5;129;01min\u001b[39;00m \u001b[38;5;28mrange\u001b[39m(\u001b[38;5;28mlen\u001b[39m(path)\u001b[38;5;241m-\u001b[39m\u001b[38;5;241m1\u001b[39m)], width\u001b[38;5;241m=\u001b[39m\u001b[38;5;241m2\u001b[39m, edge_color\u001b[38;5;241m=\u001b[39m\u001b[38;5;124m'\u001b[39m\u001b[38;5;124mred\u001b[39m\u001b[38;5;124m'\u001b[39m)\n\u001b[1;32m     56\u001b[0m \u001b[38;5;28;01mexcept\u001b[39;00m nx\u001b[38;5;241m.\u001b[39mNetworkXNoPath:\n\u001b[1;32m     57\u001b[0m     \u001b[38;5;28;01mpass\u001b[39;00m\n",
      "File \u001b[0;32m/opt/homebrew/anaconda3/lib/python3.11/site-packages/networkx/drawing/nx_pylab.py:914\u001b[0m, in \u001b[0;36mdraw_networkx_edges\u001b[0;34m(G, pos, edgelist, width, edge_color, style, alpha, arrowstyle, arrowsize, edge_cmap, edge_vmin, edge_vmax, ax, arrows, label, node_size, nodelist, node_shape, connectionstyle, min_source_margin, min_target_margin)\u001b[0m\n\u001b[1;32m    912\u001b[0m corners \u001b[38;5;241m=\u001b[39m (minx \u001b[38;5;241m-\u001b[39m padx, miny \u001b[38;5;241m-\u001b[39m pady), (maxx \u001b[38;5;241m+\u001b[39m padx, maxy \u001b[38;5;241m+\u001b[39m pady)\n\u001b[1;32m    913\u001b[0m ax\u001b[38;5;241m.\u001b[39mupdate_datalim(corners)\n\u001b[0;32m--> 914\u001b[0m ax\u001b[38;5;241m.\u001b[39mautoscale_view()\n\u001b[1;32m    916\u001b[0m ax\u001b[38;5;241m.\u001b[39mtick_params(\n\u001b[1;32m    917\u001b[0m     axis\u001b[38;5;241m=\u001b[39m\u001b[38;5;124m\"\u001b[39m\u001b[38;5;124mboth\u001b[39m\u001b[38;5;124m\"\u001b[39m,\n\u001b[1;32m    918\u001b[0m     which\u001b[38;5;241m=\u001b[39m\u001b[38;5;124m\"\u001b[39m\u001b[38;5;124mboth\u001b[39m\u001b[38;5;124m\"\u001b[39m,\n\u001b[0;32m   (...)\u001b[0m\n\u001b[1;32m    922\u001b[0m     labelleft\u001b[38;5;241m=\u001b[39m\u001b[38;5;28;01mFalse\u001b[39;00m,\n\u001b[1;32m    923\u001b[0m )\n\u001b[1;32m    925\u001b[0m \u001b[38;5;28;01mreturn\u001b[39;00m edge_viz_obj\n",
      "File \u001b[0;32m/opt/homebrew/anaconda3/lib/python3.11/site-packages/matplotlib/axes/_base.py:2854\u001b[0m, in \u001b[0;36m_AxesBase.autoscale_view\u001b[0;34m(self, tight, scalex, scaley)\u001b[0m\n\u001b[1;32m   2852\u001b[0m \u001b[38;5;28;01mif\u001b[39;00m \u001b[38;5;28mself\u001b[39m\u001b[38;5;241m.\u001b[39muse_sticky_edges:\n\u001b[1;32m   2853\u001b[0m     \u001b[38;5;28;01mif\u001b[39;00m \u001b[38;5;28mself\u001b[39m\u001b[38;5;241m.\u001b[39m_xmargin \u001b[38;5;129;01mand\u001b[39;00m scalex \u001b[38;5;129;01mand\u001b[39;00m \u001b[38;5;28mself\u001b[39m\u001b[38;5;241m.\u001b[39mget_autoscalex_on():\n\u001b[0;32m-> 2854\u001b[0m         x_stickies \u001b[38;5;241m=\u001b[39m np\u001b[38;5;241m.\u001b[39msort(np\u001b[38;5;241m.\u001b[39mconcatenate([\n\u001b[1;32m   2855\u001b[0m             artist\u001b[38;5;241m.\u001b[39msticky_edges\u001b[38;5;241m.\u001b[39mx\n\u001b[1;32m   2856\u001b[0m             \u001b[38;5;28;01mfor\u001b[39;00m ax \u001b[38;5;129;01min\u001b[39;00m \u001b[38;5;28mself\u001b[39m\u001b[38;5;241m.\u001b[39m_shared_axes[\u001b[38;5;124m\"\u001b[39m\u001b[38;5;124mx\u001b[39m\u001b[38;5;124m\"\u001b[39m]\u001b[38;5;241m.\u001b[39mget_siblings(\u001b[38;5;28mself\u001b[39m)\n\u001b[1;32m   2857\u001b[0m             \u001b[38;5;28;01mfor\u001b[39;00m artist \u001b[38;5;129;01min\u001b[39;00m ax\u001b[38;5;241m.\u001b[39mget_children()]))\n\u001b[1;32m   2858\u001b[0m     \u001b[38;5;28;01mif\u001b[39;00m \u001b[38;5;28mself\u001b[39m\u001b[38;5;241m.\u001b[39m_ymargin \u001b[38;5;129;01mand\u001b[39;00m scaley \u001b[38;5;129;01mand\u001b[39;00m \u001b[38;5;28mself\u001b[39m\u001b[38;5;241m.\u001b[39mget_autoscaley_on():\n\u001b[1;32m   2859\u001b[0m         y_stickies \u001b[38;5;241m=\u001b[39m np\u001b[38;5;241m.\u001b[39msort(np\u001b[38;5;241m.\u001b[39mconcatenate([\n\u001b[1;32m   2860\u001b[0m             artist\u001b[38;5;241m.\u001b[39msticky_edges\u001b[38;5;241m.\u001b[39my\n\u001b[1;32m   2861\u001b[0m             \u001b[38;5;28;01mfor\u001b[39;00m ax \u001b[38;5;129;01min\u001b[39;00m \u001b[38;5;28mself\u001b[39m\u001b[38;5;241m.\u001b[39m_shared_axes[\u001b[38;5;124m\"\u001b[39m\u001b[38;5;124my\u001b[39m\u001b[38;5;124m\"\u001b[39m]\u001b[38;5;241m.\u001b[39mget_siblings(\u001b[38;5;28mself\u001b[39m)\n\u001b[1;32m   2862\u001b[0m             \u001b[38;5;28;01mfor\u001b[39;00m artist \u001b[38;5;129;01min\u001b[39;00m ax\u001b[38;5;241m.\u001b[39mget_children()]))\n",
      "File \u001b[0;32m<__array_function__ internals>:200\u001b[0m, in \u001b[0;36mconcatenate\u001b[0;34m(*args, **kwargs)\u001b[0m\n",
      "\u001b[0;31mKeyboardInterrupt\u001b[0m: "
     ]
    }
   ],
   "source": [
    "import networkx as nx\n",
    "import matplotlib.pyplot as plt\n",
    "import heapq\n",
    "\n",
    "def dijkstra(graph, start):\n",
    "    distances = {node: float('inf') for node in graph.nodes}\n",
    "    distances[start] = 0\n",
    "    priority_queue = [(0, start)]\n",
    "\n",
    "    while priority_queue:\n",
    "        current_distance, current_node = heapq.heappop(priority_queue)\n",
    "\n",
    "        if current_distance > distances[current_node]:\n",
    "            continue\n",
    "\n",
    "        for neighbor in graph.neighbors(current_node):\n",
    "            distance = current_distance + 1  # Assuming all edges have a weight of 1\n",
    "            if distance < distances[neighbor]:\n",
    "                distances[neighbor] = distance\n",
    "                heapq.heappush(priority_queue, (distance, neighbor))\n",
    "\n",
    "    return distances\n",
    "\n",
    "# Read graph from file\n",
    "graph = nx.read_edgelist(\"road-minnesota.mtx\", nodetype=int)\n",
    "\n",
    "# Calculate degree centrality\n",
    "degree_centrality = nx.degree_centrality(graph)\n",
    "top_10_degree_centrality = sorted(degree_centrality, key=degree_centrality.get, reverse=True)[:3]\n",
    "\n",
    "# Calculate betweenness centrality\n",
    "betweenness_centrality = nx.betweenness_centrality(graph)\n",
    "top_10_betweenness_centrality = sorted(betweenness_centrality, key=betweenness_centrality.get, reverse=True)[:3]\n",
    "\n",
    "# Calculate closeness centrality\n",
    "closeness_centrality = nx.closeness_centrality(graph)\n",
    "top_10_closeness_centrality = sorted(closeness_centrality, key=closeness_centrality.get, reverse=True)[:3]\n",
    "\n",
    "# Calculate shortest paths from each node to all others\n",
    "shortest_paths = {node: dijkstra(graph, node) for node in graph.nodes}\n",
    "\n",
    "# Create a new figure with specified width and height\n",
    "plt.figure(figsize=(40, 35))\n",
    "\n",
    "# Draw the graph\n",
    "pos = nx.spring_layout(graph)\n",
    "nx.draw(graph, pos, with_labels=True, node_size=300, node_color='skyblue')\n",
    "\n",
    "# Highlight shortest paths\n",
    "for source in shortest_paths:\n",
    "    for target in shortest_paths[source]:\n",
    "        if source != target:\n",
    "            try:\n",
    "                path = nx.shortest_path(graph, source=source, target=target)\n",
    "                nx.draw_networkx_edges(graph, pos, edgelist=[(path[i], path[i+1]) for i in range(len(path)-1)], width=2, edge_color='red')\n",
    "            except nx.NetworkXNoPath:\n",
    "                pass\n",
    "\n",
    "plt.show()\n",
    "\n",
    "print(\"Top 10 most central nodes based on degree centrality:\", top_10_degree_centrality)\n",
    "print(\"Top 10 most central nodes based on betweenness centrality:\", top_10_betweenness_centrality)\n",
    "print(\"Top 10 most central nodes based on closeness centrality:\", top_10_closeness_centrality)\n",
    "\n",
    "# Print shortest paths\n",
    "print(\"Shortest Paths:\")\n",
    "for source in shortest_paths:\n",
    "    for target in shortest_paths[source]:\n",
    "        if source != target:\n",
    "            path_length = shortest_paths[source][target]\n",
    "            if path_length == float('inf'):\n",
    "                print(f\"No path between {source} and {target}\")\n",
    "            else:\n",
    "                try:\n",
    "                    path = nx.shortest_path(graph, source=source, target=target)\n",
    "                    print(f\"Shortest path from {source} to {target}: {path}\")\n",
    "                except nx.NetworkXNoPath:\n",
    "                    pass\n"
   ]
  }
 ],
 "metadata": {
  "kernelspec": {
   "display_name": "Python 3",
   "language": "python",
   "name": "python3"
  },
  "language_info": {
   "codemirror_mode": {
    "name": "ipython",
    "version": 3
   },
   "file_extension": ".py",
   "mimetype": "text/x-python",
   "name": "python",
   "nbconvert_exporter": "python",
   "pygments_lexer": "ipython3",
   "version": "3.11.5"
  },
  "orig_nbformat": 4
 },
 "nbformat": 4,
 "nbformat_minor": 2
}
