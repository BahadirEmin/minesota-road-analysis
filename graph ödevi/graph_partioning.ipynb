{
 "cells": [
  {
   "cell_type": "markdown",
   "metadata": {},
   "source": [
    "##  Graph Partitioning"
   ]
  },
  {
   "cell_type": "code",
   "execution_count": null,
   "metadata": {},
   "outputs": [],
   "source": [
    "#Graph Partitioning:\n",
    "import networkx as nx\n",
    "\n",
    "import networkx as nx\n",
    "import community  # Louvain community detection library\n",
    "\n",
    "def read_graph_data(file_path):\n",
    "    graph = nx.Graph()\n",
    "    with open(file_path, 'r') as file:\n",
    "        for line in file:\n",
    "            node1, node2 = map(int, line.split())\n",
    "            graph.add_edge(node1, node2)\n",
    "    return graph\n",
    "\n",
    "def partition_graph(graph):\n",
    "    partition = community.best_partition(graph)\n",
    "    return partition\n",
    "\n",
    "def visualize_partitions(graph, partition):\n",
    "    pos = nx.spring_layout(graph)  # Position nodes using Fruchterman-Reingold force-directed algorithm\n",
    "    cmap = plt.get_cmap('viridis')\n",
    "    plt.figure(figsize=(10, 6))\n",
    "    nx.draw_networkx_nodes(graph, pos, node_size=100, node_color=list(partition.values()), cmap=cmap)\n",
    "    nx.draw_networkx_edges(graph, pos, alpha=0.5)\n",
    "    plt.title('Road Network Partitioning')\n",
    "    plt.axis('off')\n",
    "    plt.show()\n",
    "\n",
    "# Example usage:\n",
    "file_path = \"road-minnesota.mtx\"  # Replace with the path to your dataset file\n",
    "graph = read_graph_data(file_path)\n",
    "partition = partition_graph(graph)\n",
    "visualize_partitions(graph, partition)\n"
   ]
  }
 ],
 "metadata": {
  "language_info": {
   "name": "python"
  }
 },
 "nbformat": 4,
 "nbformat_minor": 2
}
