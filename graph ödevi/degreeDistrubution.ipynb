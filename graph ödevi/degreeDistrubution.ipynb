{
 "cells": [
  {
   "cell_type": "code",
   "execution_count": null,
   "metadata": {},
   "outputs": [],
   "source": []
  },
  {
   "cell_type": "markdown",
   "metadata": {},
   "source": [
    "# Degree Distribution"
   ]
  },
  {
   "cell_type": "code",
   "execution_count": null,
   "metadata": {},
   "outputs": [],
   "source": [
    "#Degree Distribution:\n",
    "import matplotlib.pyplot as plt\n",
    "\n",
    "def read_graph_data(file_path):\n",
    "    graph = {}\n",
    "    with open(file_path, 'r') as file:\n",
    "        for line in file:\n",
    "            node1, node2 = map(int, line.split())\n",
    "            if node1 not in graph:\n",
    "                graph[node1] = []\n",
    "            if node2 not in graph:\n",
    "                graph[node2] = []\n",
    "            graph[node1].append(node2)\n",
    "            graph[node2].append(node1)\n",
    "    return graph\n",
    "\n",
    "def calculate_degree_distribution(graph):\n",
    "    degree_distribution = {}\n",
    "    for node, neighbors in graph.items():\n",
    "        degree = len(neighbors)\n",
    "        if degree not in degree_distribution:\n",
    "            degree_distribution[degree] = 0\n",
    "        degree_distribution[degree] += 1\n",
    "    return degree_distribution\n",
    "\n",
    "def plot_degree_distribution(degree_distribution):\n",
    "    plt.bar(degree_distribution.keys(), degree_distribution.values(), color='skyblue')\n",
    "    plt.title('Degree Distribution of Nodes')\n",
    "    plt.xlabel('Degree')\n",
    "    plt.ylabel('Number of Nodes')\n",
    "    plt.show()\n",
    "\n",
    "# Example usage:\n",
    "file_path = \"road-minnesota.mtx\"  # Replace with the path to your dataset file\n",
    "graph = read_graph_data(file_path)\n",
    "degree_distribution = calculate_degree_distribution(graph)\n",
    "plot_degree_distribution(degree_distribution)\n"
   ]
  }
 ],
 "metadata": {
  "language_info": {
   "name": "python"
  }
 },
 "nbformat": 4,
 "nbformat_minor": 2
}
