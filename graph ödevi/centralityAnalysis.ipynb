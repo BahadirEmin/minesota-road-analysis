{
 "cells": [
  {
   "cell_type": "markdown",
   "metadata": {},
   "source": [
    "# Centrality analysis of the minesora road network"
   ]
  },
  {
   "cell_type": "code",
   "execution_count": 6,
   "metadata": {},
   "outputs": [
    {
     "name": "stdout",
     "output_type": "stream",
     "text": [
      "Top 10 most central nodes based on degree centrality: [2418, 35, 32, 39, 55, 63, 90, 81, 83, 96]\n",
      "Top 10 most central nodes based on betweenness centrality: [1821, 2069, 2063, 1537, 1216, 1964, 2079, 1963, 1590, 639]\n",
      "Top 10 most central nodes based on closeness centrality: [1356, 1820, 1109, 1838, 1355, 1571, 1782, 1584, 1785, 1083]\n"
     ]
    }
   ],
   "source": [
    "import networkx as nx\n",
    "\n",
    "# Read the edge list from the file\n",
    "with open('road-minnesota.mtx', 'r') as file:\n",
    "    edges = [tuple(map(int, line.split())) for line in file]\n",
    "\n",
    "# Create a graph and add edges from the edge list\n",
    "G = nx.Graph()\n",
    "G.add_edges_from(edges)\n",
    "\n",
    "# Calculate centrality measures\n",
    "degree_centralities = nx.degree_centrality(G)\n",
    "betweenness_centralities = nx.betweenness_centrality(G)\n",
    "closeness_centralities = nx.closeness_centrality(G)\n",
    "\n",
    "# Identify most important nodes based on these centrality measures\n",
    "most_central_nodes_degree = sorted(degree_centralities, key=degree_centralities.get, reverse=True)[:10]\n",
    "most_central_nodes_betweenness = sorted(betweenness_centralities, key=betweenness_centralities.get, reverse=True)[:10]\n",
    "most_central_nodes_closeness = sorted(closeness_centralities, key=closeness_centralities.get, reverse=True)[:10]\n",
    "\n",
    "print(\"Top 10 most central nodes based on degree centrality:\", most_central_nodes_degree)\n",
    "print(\"Top 10 most central nodes based on betweenness centrality:\", most_central_nodes_betweenness)\n",
    "print(\"Top 10 most central nodes based on closeness centrality:\", most_central_nodes_closeness)\n"
   ]
  }
 ],
 "metadata": {
  "kernelspec": {
   "display_name": "Python 3",
   "language": "python",
   "name": "python3"
  },
  "language_info": {
   "codemirror_mode": {
    "name": "ipython",
    "version": 3
   },
   "file_extension": ".py",
   "mimetype": "text/x-python",
   "name": "python",
   "nbconvert_exporter": "python",
   "pygments_lexer": "ipython3",
   "version": "3.11.5"
  },
  "orig_nbformat": 4
 },
 "nbformat": 4,
 "nbformat_minor": 2
}
