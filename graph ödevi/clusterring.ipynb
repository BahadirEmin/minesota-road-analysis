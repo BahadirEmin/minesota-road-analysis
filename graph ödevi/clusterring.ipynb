{
 "cells": [
  {
   "cell_type": "code",
   "execution_count": null,
   "metadata": {},
   "outputs": [],
   "source": []
  },
  {
   "cell_type": "markdown",
   "metadata": {},
   "source": [
    "# Clustering Coefficients:"
   ]
  },
  {
   "cell_type": "code",
   "execution_count": 2,
   "metadata": {},
   "outputs": [
    {
     "name": "stdout",
     "output_type": "stream",
     "text": [
      "Average Clustering Coefficient of the road network: 0.007980065606863486\n",
      "\n",
      "Top 20 nodes with highest clustering coefficients:\n"
     ]
    },
    {
     "ename": "NameError",
     "evalue": "name 'sorted_coefficients' is not defined",
     "output_type": "error",
     "traceback": [
      "\u001b[0;31m---------------------------------------------------------------------------\u001b[0m",
      "\u001b[0;31mNameError\u001b[0m                                 Traceback (most recent call last)",
      "Cell \u001b[0;32mIn[2], line 46\u001b[0m\n\u001b[1;32m     44\u001b[0m \u001b[38;5;66;03m# Print clustering coefficients for each node\u001b[39;00m\n\u001b[1;32m     45\u001b[0m \u001b[38;5;28mprint\u001b[39m(\u001b[38;5;124m\"\u001b[39m\u001b[38;5;130;01m\\n\u001b[39;00m\u001b[38;5;124mTop 20 nodes with highest clustering coefficients:\u001b[39m\u001b[38;5;124m\"\u001b[39m)\n\u001b[0;32m---> 46\u001b[0m \u001b[38;5;28;01mfor\u001b[39;00m i, (node, coefficient) \u001b[38;5;129;01min\u001b[39;00m \u001b[38;5;28menumerate\u001b[39m(sorted_coefficients[:\u001b[38;5;241m20\u001b[39m], \u001b[38;5;241m1\u001b[39m):\n\u001b[1;32m     47\u001b[0m     \u001b[38;5;28mprint\u001b[39m(\u001b[38;5;124mf\u001b[39m\u001b[38;5;124m\"\u001b[39m\u001b[38;5;132;01m{\u001b[39;00mi\u001b[38;5;132;01m}\u001b[39;00m\u001b[38;5;124m. Node \u001b[39m\u001b[38;5;132;01m{\u001b[39;00mnode\u001b[38;5;132;01m}\u001b[39;00m\u001b[38;5;124m: Clustering Coefficient = \u001b[39m\u001b[38;5;132;01m{\u001b[39;00mcoefficient\u001b[38;5;132;01m}\u001b[39;00m\u001b[38;5;124m\"\u001b[39m)\n",
      "\u001b[0;31mNameError\u001b[0m: name 'sorted_coefficients' is not defined"
     ]
    }
   ],
   "source": [
    "#Clustering Coefficients:\n",
    "import networkx as nx\n",
    "\n",
    "def read_graph_data(file_path):\n",
    "    graph = nx.DiGraph()  # Create a directed graph\n",
    "    with open(file_path, 'r') as file:\n",
    "        for line in file:\n",
    "            node1, node2 = map(int, line.split())\n",
    "            graph.add_edge(node1, node2)\n",
    "    return graph\n",
    "\n",
    "def calculate_clustering_coefficients(graph):\n",
    "    clustering_coefficients = {}\n",
    "    for node in graph.nodes():\n",
    "        neighbors = list(graph.neighbors(node))  # Convert iterator to list\n",
    "        num_neighbors = len(neighbors)\n",
    "        if num_neighbors < 2:\n",
    "            clustering_coefficients[node] = 0.0\n",
    "            continue\n",
    "        \n",
    "        total_possible_edges = num_neighbors * (num_neighbors - 1)\n",
    "        actual_edges = 0\n",
    "        for neighbor1 in neighbors:\n",
    "            for neighbor2 in neighbors:\n",
    "                if neighbor1 != neighbor2 and graph.has_edge(neighbor1, neighbor2):\n",
    "                    actual_edges += 1\n",
    "        \n",
    "        clustering_coefficients[node] = actual_edges / total_possible_edges\n",
    "    return clustering_coefficients\n",
    "\n",
    "def calculate_average_clustering_coefficient(graph):\n",
    "    return nx.average_clustering(graph)\n",
    "\n",
    "# Example usage:\n",
    "file_path = \"road-minnesota.mtx\"  # Replace with the path to your dataset file\n",
    "graph = read_graph_data(file_path)\n",
    "\n",
    "# Calculate clustering coefficients\n",
    "clustering_coefficients = calculate_clustering_coefficients(graph)\n",
    "\n",
    "avg_clustering_coefficient = calculate_average_clustering_coefficient(graph)\n",
    "\n",
    "\n",
    "\n",
    "print(f\"Average Clustering Coefficient of the road network: {avg_clustering_coefficient}\")\n",
    "\n",
    "# Print clustering coefficients for each node\n",
    "sorted_coefficients = sorted(clustering_coefficients.items(), key=lambda x: x[1], reverse=True)\n",
    "\n",
    "# Print top 20 nodes with highest clustering coefficients\n",
    "print(\"\\nTop 20 nodes with highest clustering coefficients:\")\n",
    "for i, (node, coefficient) in enumerate(sorted_coefficients[:20], 1):\n",
    "    print(f\"{i}. Node {node}: Clustering Coefficient = {coefficient}\")\n"
   ]
  }
 ],
 "metadata": {
  "kernelspec": {
   "display_name": "base",
   "language": "python",
   "name": "python3"
  },
  "language_info": {
   "codemirror_mode": {
    "name": "ipython",
    "version": 3
   },
   "file_extension": ".py",
   "mimetype": "text/x-python",
   "name": "python",
   "nbconvert_exporter": "python",
   "pygments_lexer": "ipython3",
   "version": "3.11.5"
  }
 },
 "nbformat": 4,
 "nbformat_minor": 2
}
