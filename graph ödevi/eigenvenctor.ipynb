{
 "cells": [
  {
   "cell_type": "code",
   "execution_count": 3,
   "metadata": {},
   "outputs": [
    {
     "ename": "AttributeError",
     "evalue": "module 'networkx.readwrite' has no attribute 'read_mtx'",
     "output_type": "error",
     "traceback": [
      "\u001b[0;31m---------------------------------------------------------------------------\u001b[0m",
      "\u001b[0;31mAttributeError\u001b[0m                            Traceback (most recent call last)",
      "Cell \u001b[0;32mIn[3], line 4\u001b[0m\n\u001b[1;32m      1\u001b[0m \u001b[38;5;28;01mimport\u001b[39;00m \u001b[38;5;21;01mnetworkx\u001b[39;00m \u001b[38;5;28;01mas\u001b[39;00m \u001b[38;5;21;01mnx\u001b[39;00m\n\u001b[1;32m      3\u001b[0m \u001b[38;5;66;03m# Read the graph from the .mtx file\u001b[39;00m\n\u001b[0;32m----> 4\u001b[0m G \u001b[38;5;241m=\u001b[39m nx\u001b[38;5;241m.\u001b[39mreadwrite\u001b[38;5;241m.\u001b[39mread_mtx(\u001b[38;5;124m\"\u001b[39m\u001b[38;5;124mroad-minnesota.mtx\u001b[39m\u001b[38;5;124m\"\u001b[39m)\n\u001b[1;32m      6\u001b[0m \u001b[38;5;66;03m# Compute eigenvector centrality\u001b[39;00m\n\u001b[1;32m      7\u001b[0m centrality \u001b[38;5;241m=\u001b[39m nx\u001b[38;5;241m.\u001b[39meigenvector_centrality_numpy(G)\n",
      "\u001b[0;31mAttributeError\u001b[0m: module 'networkx.readwrite' has no attribute 'read_mtx'"
     ]
    }
   ],
   "source": [
    "import networkx as nx\n",
    "\n",
    "# Read the graph from the .mtx file\n",
    "G = nx.read_adjlist(\"road-minnesota.mtx\")\n",
    "\n",
    "# Compute eigenvector centrality\n",
    "centrality = nx.eigenvector_centrality_numpy(G)\n",
    "\n",
    "# Print the centrality of each node\n",
    "for node, centrality_value in centrality.items():\n",
    "    print(f\"Node {node}: Eigenvector Centrality = {centrality_value}\")\n"
   ]
  }
 ],
 "metadata": {
  "kernelspec": {
   "display_name": "base",
   "language": "python",
   "name": "python3"
  },
  "language_info": {
   "codemirror_mode": {
    "name": "ipython",
    "version": 3
   },
   "file_extension": ".py",
   "mimetype": "text/x-python",
   "name": "python",
   "nbconvert_exporter": "python",
   "pygments_lexer": "ipython3",
   "version": "3.11.5"
  }
 },
 "nbformat": 4,
 "nbformat_minor": 2
}
